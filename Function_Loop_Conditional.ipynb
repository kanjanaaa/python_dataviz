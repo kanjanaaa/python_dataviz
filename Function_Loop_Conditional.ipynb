{
 "cells": [
  {
   "cell_type": "markdown",
   "metadata": {},
   "source": [
    "# Function \n",
    "### print ชื่อ XXX นามสกุล YYY  รหัส ZZZ\n",
    "### print เกรด วิชา stat 1 >>> AAA"
   ]
  },
  {
   "cell_type": "code",
   "execution_count": 4,
   "metadata": {},
   "outputs": [
    {
     "name": "stdout",
     "output_type": "stream",
     "text": [
      " ชื่อ กาญจนา นามสกุล ประสาคุณ รหัส 603021855-2 \n"
     ]
    }
   ],
   "source": [
    "a = ' ชื่อ กาญจนา นามสกุล ประสาคุณ รหัส 603021855-2 ' \n",
    "print(a)"
   ]
  },
  {
   "cell_type": "code",
   "execution_count": 5,
   "metadata": {},
   "outputs": [
    {
     "name": "stdout",
     "output_type": "stream",
     "text": [
      "ชื่อ กาญจนา ประสาคุณ ประสาคุณ รหัส 603021855-2\n"
     ]
    }
   ],
   "source": [
    "name = 'กาญจนา'\n",
    "surname = 'ประสาคุณ'\n",
    "ID = '603021855-2'\n",
    "\n",
    "b = f'ชื่อ {name} ประสาคุณ {surname} รหัส {ID}'\n",
    "print(b)"
   ]
  },
  {
   "cell_type": "markdown",
   "metadata": {},
   "source": [
    "#### def ตามด้วยชื่อของฟังก์ชั่น "
   ]
  },
  {
   "cell_type": "markdown",
   "metadata": {},
   "source": [
    "``` python\n",
    "def function_name(x):\n",
    "        do_someting\n",
    "        return y\n",
    "```"
   ]
  },
  {
   "cell_type": "code",
   "execution_count": null,
   "metadata": {},
   "outputs": [],
   "source": [
    "def print_line1():\n",
    "    \n",
    "     return"
   ]
  },
  {
   "cell_type": "code",
   "execution_count": 46,
   "metadata": {},
   "outputs": [],
   "source": [
    "def print_line1(name1,surname1,ID1):\n",
    "    st = f'ชื่อ {name1} นามสกุล {surname1} รหัส {ID1}'\n",
    "    return st"
   ]
  },
  {
   "cell_type": "code",
   "execution_count": 22,
   "metadata": {},
   "outputs": [
    {
     "name": "stdout",
     "output_type": "stream",
     "text": [
      "ชื่อ กาญจนา นามสกุล  ประสาคุณ  รหัส  603021855-2 \n"
     ]
    }
   ],
   "source": [
    "print(print_line1(' กาญจนา' , ' ประสาคุณ ' , ' 603021855-2 '))"
   ]
  },
  {
   "cell_type": "code",
   "execution_count": 49,
   "metadata": {},
   "outputs": [],
   "source": [
    "def print_2lines(name1,surname1,ID1,grade):\n",
    "    st = f'ชื่อ {name1} นามสกุล {surname1} รหัส {ID1}'\n",
    "    print(st)\n",
    "    st2 = f'เกรดวิชา stat1 >>> {grade}'\n",
    "    print(st2)"
   ]
  },
  {
   "cell_type": "code",
   "execution_count": 35,
   "metadata": {},
   "outputs": [
    {
     "name": "stdout",
     "output_type": "stream",
     "text": [
      "ชื่อ กาญจนา นามสกุล  ประสาคุณ  รหัส  603021855-2 \n",
      "เกรดวิชา stat1 >>>  A \n"
     ]
    }
   ],
   "source": [
    "print_2lines(' กาญจนา ' , ' ประสาคุณ ', ' 603021855-2 ', ' A ')"
   ]
  },
  {
   "cell_type": "code",
   "execution_count": 50,
   "metadata": {},
   "outputs": [
    {
     "name": "stdout",
     "output_type": "stream",
     "text": [
      "ชื่อ  กาญจนา  นามสกุล  ประสาคุณ  รหัส  603021855-2 \n",
      "เกรดวิชา stat1 >>>  c \n",
      "ชื่อ  นพภเกตุน์  นามสกุล  คนคง  รหัส  603021868-3 \n",
      "เกรดวิชา stat1 >>>  c+ \n",
      "ชื่อ  ภานรินทร์  นามสกุล  อิ่นแก้ว  รหัส  603021110-2 \n",
      "เกรดวิชา stat1 >>> B \n",
      "ชื่อ  พงศ์ศิริเดช  นามสกุล  ศิลปษา  รหัส  603021874-8 \n",
      "เกรดวิชา stat1 >>>  B+ \n"
     ]
    }
   ],
   "source": [
    "print_2lines(' กาญจนา ' , ' ประสาคุณ ', ' 603021855-2 ', ' c ')\n",
    "print_2lines(' นพภเกตุน์ ' , ' คนคง ', ' 603021868-3 ', ' c+ ')\n",
    "print_2lines(' ภานรินทร์ ' , ' อิ่นแก้ว ', ' 603021110-2 ', 'B ')\n",
    "print_2lines(' พงศ์ศิริเดช ' , ' ศิลปษา ', ' 603021874-8 ', ' B+ ')"
   ]
  },
  {
   "cell_type": "markdown",
   "metadata": {},
   "source": [
    "### function without output"
   ]
  },
  {
   "cell_type": "code",
   "execution_count": 42,
   "metadata": {},
   "outputs": [
    {
     "name": "stdout",
     "output_type": "stream",
     "text": [
      "ชื่อ กาญจนา นามสกุล  ประสาคุณ  รหัส  603021855-2 \n",
      "เกรดวิชา stat1 >>>  c \n"
     ]
    }
   ],
   "source": [
    "print_2lines(' กาญจนา ' , ' ประสาคุณ ', ' 603021855-2 ', ' c ')"
   ]
  },
  {
   "cell_type": "code",
   "execution_count": 53,
   "metadata": {},
   "outputs": [],
   "source": [
    "def print_2lines_er(name1,surname1,ID1,grade):\n",
    "    st = f'ชื่อ {name} นามสกุล {surname1} รหัส {ID1}'\n",
    "    print(st)\n",
    "    st2 = f'เกรดวิชา stat1 >>> {grade}'\n",
    "    print(st2)"
   ]
  },
  {
   "cell_type": "code",
   "execution_count": 54,
   "metadata": {},
   "outputs": [
    {
     "name": "stdout",
     "output_type": "stream",
     "text": [
      "ชื่อ กาญจนา นามสกุล  ประสาคุณ  รหัส  603021855-2 \n",
      "เกรดวิชา stat1 >>>  c \n"
     ]
    }
   ],
   "source": [
    "print_2lines_er(' กาญจนา ' , ' ประสาคุณ ', ' 603021855-2 ', ' c ')"
   ]
  },
  {
   "cell_type": "markdown",
   "metadata": {},
   "source": [
    "### function without input"
   ]
  },
  {
   "cell_type": "code",
   "execution_count": 73,
   "metadata": {},
   "outputs": [],
   "source": [
    "def two_x_three():\n",
    "    x = 2*3\n",
    "    return x"
   ]
  },
  {
   "cell_type": "code",
   "execution_count": 74,
   "metadata": {},
   "outputs": [
    {
     "data": {
      "text/plain": [
       "6"
      ]
     },
     "execution_count": 74,
     "metadata": {},
     "output_type": "execute_result"
    }
   ],
   "source": [
    "two_x_three()"
   ]
  },
  {
   "cell_type": "markdown",
   "metadata": {},
   "source": [
    "### function with default argument"
   ]
  },
  {
   "cell_type": "code",
   "execution_count": 65,
   "metadata": {},
   "outputs": [],
   "source": [
    "def print_2lines_default(name1,surname1,ID1,grade=' F '):\n",
    "    st = f'ชื่อ {name} นามสกุล {surname1} รหัส {ID1}'\n",
    "    print(st)\n",
    "    st2 = f'เกรดวิชา stat1 >>> {grade}'\n",
    "    print(st2)"
   ]
  },
  {
   "cell_type": "code",
   "execution_count": 66,
   "metadata": {},
   "outputs": [
    {
     "name": "stdout",
     "output_type": "stream",
     "text": [
      "ชื่อ กาญจนา นามสกุล  ประสาคุณ  รหัส  603021855-2 \n",
      "เกรดวิชา stat1 >>>  F \n"
     ]
    }
   ],
   "source": [
    "print_2lines_default(' กาญจนา ' , ' ประสาคุณ ', ' 603021855-2 ')"
   ]
  },
  {
   "cell_type": "code",
   "execution_count": 68,
   "metadata": {},
   "outputs": [
    {
     "name": "stdout",
     "output_type": "stream",
     "text": [
      "ชื่อ กาญจนา นามสกุล  ประสาคุณ  รหัส  603021855-2 \n",
      "เกรดวิชา stat1 >>>  A+ \n"
     ]
    }
   ],
   "source": [
    "print_2lines_default(' กาญจนา ' , ' ประสาคุณ ', ' 603021855-2 ', ' A+ ')"
   ]
  },
  {
   "cell_type": "code",
   "execution_count": 70,
   "metadata": {},
   "outputs": [
    {
     "name": "stdout",
     "output_type": "stream",
     "text": [
      "ชื่อ กาญจนา นามสกุล กาญจนา รหัส 603021855-2\n",
      "เกรดวิชา stat1 >>>  F \n"
     ]
    }
   ],
   "source": [
    "print_2lines_default(surname1 = 'กาญจนา' ,name1 = 'ประสาคุณ' , ID1 = '603021855-2')"
   ]
  },
  {
   "cell_type": "markdown",
   "metadata": {},
   "source": [
    "# Loop (วนซ้ำ)\n",
    "### การวนลูปของการทำงานของกลุ่มคำสั่ง"
   ]
  },
  {
   "cell_type": "markdown",
   "metadata": {},
   "source": [
    "```python\n",
    "for each_member in listA:\n",
    "     do something\n",
    "```"
   ]
  },
  {
   "cell_type": "code",
   "execution_count": 75,
   "metadata": {},
   "outputs": [
    {
     "name": "stdout",
     "output_type": "stream",
     "text": [
      "1\n",
      "2\n",
      "3\n"
     ]
    }
   ],
   "source": [
    "for i in [1,2,3]:\n",
    "      print(i)"
   ]
  },
  {
   "cell_type": "code",
   "execution_count": 79,
   "metadata": {},
   "outputs": [
    {
     "name": "stdout",
     "output_type": "stream",
     "text": [
      " T -> / \n",
      " h -> / \n",
      " a -> / \n",
      " n -> / \n",
      " a -> / \n",
      " p -> / \n",
      " o -> / \n",
      " n -> / \n",
      " g -> / \n"
     ]
    }
   ],
   "source": [
    "for i in 'Thanapong':\n",
    "     print(f' {i} -> / ')"
   ]
  },
  {
   "cell_type": "code",
   "execution_count": 84,
   "metadata": {},
   "outputs": [
    {
     "name": "stdout",
     "output_type": "stream",
     "text": [
      " T -> / \n",
      " \n",
      " h -> / \n",
      " \n",
      " a -> / \n",
      " \n",
      " n -> / \n",
      " \n",
      " a -> / \n",
      " \n",
      " p -> / \n",
      " \n",
      " o -> / \n",
      " \n",
      " n -> / \n",
      " \n",
      " g -> / \n",
      " \n"
     ]
    }
   ],
   "source": [
    "for i in 'Thanapong':\n",
    "     print(f' {i} -> / ')\n",
    "     print( ' ' )"
   ]
  },
  {
   "cell_type": "markdown",
   "metadata": {},
   "source": [
    "### 1 สร้าง List ชื่อเพื่อนที่อยู่ในแถวเดียวกัน \n",
    "### 1.5 สร้าง function print  ประโยคว่า xxxเรา YYYความรู้สึก zzzเพื่อน ทุกคนในแถว\n",
    "###  2 วนลูป เรียก function โดยเปลี่ยนชื่อเพื่อนไปเรื่อยๆ"
   ]
  },
  {
   "cell_type": "markdown",
   "metadata": {},
   "source": [
    "#### ข้อ 1"
   ]
  },
  {
   "cell_type": "code",
   "execution_count": 87,
   "metadata": {},
   "outputs": [
    {
     "name": "stdout",
     "output_type": "stream",
     "text": [
      "ฟาง\n",
      "เกตุน์\n",
      "ไอซ์\n",
      "โด้\n",
      "แบงค์\n"
     ]
    }
   ],
   "source": [
    "for i in ['ฟาง','เกตุน์','ไอซ์','โด้','แบงค์']:\n",
    "     print(i)"
   ]
  },
  {
   "cell_type": "markdown",
   "metadata": {},
   "source": [
    "#### ข้อ 1.5"
   ]
  },
  {
   "cell_type": "code",
   "execution_count": 95,
   "metadata": {},
   "outputs": [
    {
     "name": "stdout",
     "output_type": "stream",
     "text": [
      " ฟางรักเพื่อนเกตุน์ \n",
      " \n",
      " ฟางรักเพื่อนไอซ์ \n",
      " \n",
      " ฟางรักเพื่อนโด้ \n",
      " \n",
      " ฟางรักเพื่อนแบงค์ \n",
      " \n"
     ]
    }
   ],
   "source": [
    "for i in 'เกตุน์','ไอซ์','โด้','แบงค์':\n",
    "     print(f' ฟางรักเพื่อน{i} ')\n",
    "     print( ' ' )"
   ]
  },
  {
   "cell_type": "markdown",
   "metadata": {},
   "source": [
    "#### ข้อ 2"
   ]
  },
  {
   "cell_type": "code",
   "execution_count": 115,
   "metadata": {},
   "outputs": [],
   "source": [
    "friend_list = ['เกตุน์','ไอซ์','โด้','แบงค์']"
   ]
  },
  {
   "cell_type": "code",
   "execution_count": 131,
   "metadata": {},
   "outputs": [],
   "source": [
    "def print_feeling(I,feeling,friend):\n",
    "      print(f' {I} {feeling} {friend}')"
   ]
  },
  {
   "cell_type": "code",
   "execution_count": 117,
   "metadata": {},
   "outputs": [
    {
     "name": "stdout",
     "output_type": "stream",
     "text": [
      " ฟาง รักเพื่อน เกตุน์\n"
     ]
    }
   ],
   "source": [
    "print_feeling('ฟาง' , 'รักเพื่อน' , 'เกตุน์')"
   ]
  },
  {
   "cell_type": "code",
   "execution_count": 118,
   "metadata": {},
   "outputs": [
    {
     "name": "stdout",
     "output_type": "stream",
     "text": [
      " ฟาง รักเพื่อน เกตุน์\n",
      " ฟาง รักเพื่อน ไอซ์\n",
      " ฟาง รักเพื่อน โด้\n",
      " ฟาง รักเพื่อน แบงค์\n"
     ]
    }
   ],
   "source": [
    "for f in friend_list:\n",
    "    print_feeling('ฟาง' , 'รักเพื่อน' ,f)"
   ]
  },
  {
   "cell_type": "markdown",
   "metadata": {},
   "source": [
    "# Loop in function\n",
    "### สร้างลูปเข้าไปในฟังก์ชั่น"
   ]
  },
  {
   "cell_type": "code",
   "execution_count": 119,
   "metadata": {},
   "outputs": [],
   "source": [
    "def print_feelings(I,feeling,friends):\n",
    "    for friend in friends:\n",
    "        print(f' {I} {feeling} {friend}')"
   ]
  },
  {
   "cell_type": "code",
   "execution_count": 120,
   "metadata": {},
   "outputs": [
    {
     "name": "stdout",
     "output_type": "stream",
     "text": [
      " ฟาง รักเพื่อน เกตุน์\n",
      " ฟาง รักเพื่อน ไอซ์\n",
      " ฟาง รักเพื่อน โด้\n",
      " ฟาง รักเพื่อน แบงค์\n"
     ]
    }
   ],
   "source": [
    "print_feelings('ฟาง' , 'รักเพื่อน' , friend_list)"
   ]
  },
  {
   "cell_type": "markdown",
   "metadata": {},
   "source": [
    "# Loop in dict \n",
    "### วนลูปในดิก\n",
    "#### ตัวข้างหน้าคือดิก ตัวข้างหลังคือค่า"
   ]
  },
  {
   "cell_type": "code",
   "execution_count": 122,
   "metadata": {},
   "outputs": [
    {
     "data": {
      "text/plain": [
       "{'พันทิพา': 'B', 'ศุภนิตา': 'C', 'ปนัดดา': 'A', 'ทรงกลด': 'F'}"
      ]
     },
     "execution_count": 122,
     "metadata": {},
     "output_type": "execute_result"
    }
   ],
   "source": [
    "name_grade = {'พันทิพา':'B','ศุภนิตา':'C','ปนัดดา':'A','ทรงกลด':'F'}\n",
    "name_grade"
   ]
  },
  {
   "cell_type": "code",
   "execution_count": 123,
   "metadata": {},
   "outputs": [
    {
     "data": {
      "text/plain": [
       "'A'"
      ]
     },
     "execution_count": 123,
     "metadata": {},
     "output_type": "execute_result"
    }
   ],
   "source": [
    "name_grade['ปนัดดา']"
   ]
  },
  {
   "cell_type": "code",
   "execution_count": 125,
   "metadata": {},
   "outputs": [
    {
     "data": {
      "text/plain": [
       "dict_keys(['พันทิพา', 'ศุภนิตา', 'ปนัดดา', 'ทรงกลด'])"
      ]
     },
     "execution_count": 125,
     "metadata": {},
     "output_type": "execute_result"
    }
   ],
   "source": [
    "name_grade.keys()"
   ]
  },
  {
   "cell_type": "code",
   "execution_count": 126,
   "metadata": {},
   "outputs": [
    {
     "name": "stdout",
     "output_type": "stream",
     "text": [
      "พันทิพา\n",
      "ศุภนิตา\n",
      "ปนัดดา\n",
      "ทรงกลด\n"
     ]
    }
   ],
   "source": [
    "for i in name_grade.keys():\n",
    "    print(i)"
   ]
  },
  {
   "cell_type": "code",
   "execution_count": 127,
   "metadata": {},
   "outputs": [
    {
     "name": "stdout",
     "output_type": "stream",
     "text": [
      " พันทิพา ได้เกรด B\n",
      " ศุภนิตา ได้เกรด C\n",
      " ปนัดดา ได้เกรด A\n",
      " ทรงกลด ได้เกรด F\n"
     ]
    }
   ],
   "source": [
    "for i in name_grade.keys():\n",
    "    print(f' {i} ได้เกรด {name_grade[i]}' )"
   ]
  },
  {
   "cell_type": "markdown",
   "metadata": {},
   "source": [
    "## Loop in loop \n",
    "### ลูปซ้อนลูป สามารถซ้อนลูปเข้าไปหลายรอบได้"
   ]
  },
  {
   "cell_type": "code",
   "execution_count": 128,
   "metadata": {},
   "outputs": [
    {
     "name": "stdout",
     "output_type": "stream",
     "text": [
      " เกตุน์ รัก เกตุน์\n",
      " เกตุน์ รัก ไอซ์\n",
      " เกตุน์ รัก โด้\n",
      " เกตุน์ รัก แบงค์\n",
      " ไอซ์ รัก เกตุน์\n",
      " ไอซ์ รัก ไอซ์\n",
      " ไอซ์ รัก โด้\n",
      " ไอซ์ รัก แบงค์\n",
      " โด้ รัก เกตุน์\n",
      " โด้ รัก ไอซ์\n",
      " โด้ รัก โด้\n",
      " โด้ รัก แบงค์\n",
      " แบงค์ รัก เกตุน์\n",
      " แบงค์ รัก ไอซ์\n",
      " แบงค์ รัก โด้\n",
      " แบงค์ รัก แบงค์\n"
     ]
    }
   ],
   "source": [
    "for name1 in friend_list:\n",
    "    for name2 in friend_list:\n",
    "        print_feeling(name1,'รัก',name2)"
   ]
  },
  {
   "cell_type": "markdown",
   "metadata": {},
   "source": [
    "# conditional ประโยคเงื่อนไข"
   ]
  },
  {
   "cell_type": "markdown",
   "metadata": {},
   "source": [
    "```python\n",
    "if condition1:\n",
    "     do something\n",
    "elif condition2:\n",
    "    do another thing\n",
    "else:\n",
    "    do ...\n",
    "```"
   ]
  },
  {
   "cell_type": "markdown",
   "metadata": {},
   "source": [
    "####  วนไม่ให้ชื่อเดิมวนมาหากัน"
   ]
  },
  {
   "cell_type": "code",
   "execution_count": 133,
   "metadata": {},
   "outputs": [
    {
     "name": "stdout",
     "output_type": "stream",
     "text": [
      " เกตุน์ รัก ไอซ์\n",
      " เกตุน์ รัก โด้\n",
      " เกตุน์ รัก แบงค์\n",
      " ไอซ์ รัก เกตุน์\n",
      " ไอซ์ รัก โด้\n",
      " ไอซ์ รัก แบงค์\n",
      " โด้ รัก เกตุน์\n",
      " โด้ รัก ไอซ์\n",
      " โด้ รัก แบงค์\n",
      " แบงค์ รัก เกตุน์\n",
      " แบงค์ รัก ไอซ์\n",
      " แบงค์ รัก โด้\n"
     ]
    }
   ],
   "source": [
    "for name1 in friend_list:\n",
    "    for name2 in friend_list:\n",
    "        if name1 != name2:\n",
    "         print_feeling(name1,'รัก',name2)"
   ]
  },
  {
   "cell_type": "markdown",
   "metadata": {},
   "source": [
    "#### หลังคอนดิชั่นเป็นได้แค่ true กับ false"
   ]
  },
  {
   "cell_type": "code",
   "execution_count": 138,
   "metadata": {},
   "outputs": [
    {
     "name": "stdout",
     "output_type": "stream",
     "text": [
      "Yes\n"
     ]
    }
   ],
   "source": [
    "if True:\n",
    "    print('Yes')"
   ]
  },
  {
   "cell_type": "code",
   "execution_count": 139,
   "metadata": {},
   "outputs": [],
   "source": [
    "if False:\n",
    "    print('No')"
   ]
  },
  {
   "cell_type": "code",
   "execution_count": 140,
   "metadata": {},
   "outputs": [
    {
     "name": "stdout",
     "output_type": "stream",
     "text": [
      "No\n"
     ]
    }
   ],
   "source": [
    "if False:\n",
    "    print('Yes')\n",
    "else:\n",
    "    print('No')    "
   ]
  },
  {
   "cell_type": "code",
   "execution_count": 141,
   "metadata": {},
   "outputs": [
    {
     "data": {
      "text/plain": [
       "True"
      ]
     },
     "execution_count": 141,
     "metadata": {},
     "output_type": "execute_result"
    }
   ],
   "source": [
    "1 == 1"
   ]
  },
  {
   "cell_type": "code",
   "execution_count": 142,
   "metadata": {},
   "outputs": [
    {
     "name": "stdout",
     "output_type": "stream",
     "text": [
      "1=1\n"
     ]
    }
   ],
   "source": [
    "if 1 == 1:\n",
    "    print('1=1')"
   ]
  },
  {
   "cell_type": "markdown",
   "metadata": {},
   "source": [
    "#### เครื่องหมายที่ใช้กับ condition\n",
    "#### == , != , >= , <= , < , >  ตัวข้างหน้ามากกว่าหรือเท่ากับตัวข้างหลัง,ตัวข้างหน้าน้อยกว่าหรือเท่ากับตัวข้างหลัง"
   ]
  },
  {
   "cell_type": "markdown",
   "metadata": {},
   "source": [
    "# HW \n",
    "### เขียนฟังก์ชั่นตัดเกรดโดยที่ input เป็นคะแนน(0-100) output เป็นเกรด(F-A)\n",
    "#### input ให้เป็นลิสต์  [ 1 , 50 , 65 , 90 , 101 , -5 , 49 ]"
   ]
  },
  {
   "cell_type": "code",
   "execution_count": 59,
   "metadata": {},
   "outputs": [],
   "source": [
    "Grad = ['A','B+','B','C+','C','D+','D','F']"
   ]
  },
  {
   "cell_type": "markdown",
   "metadata": {},
   "source": [
    "### input คะแนน (1 , 50 , 65 , 90 , 101 , -5 , 49 ) ลงไป จะได้เป็นเกรดออกมา\n",
    "#### input คะแนน 90 เกรดที่ได้คือ A"
   ]
  },
  {
   "cell_type": "code",
   "execution_count": 4,
   "metadata": {},
   "outputs": [
    {
     "name": "stdout",
     "output_type": "stream",
     "text": [
      "Grad\n",
      "คะแนนทั้งหมด:90\n",
      "คะแนน 90 เกรด A\n"
     ]
    }
   ],
   "source": [
    "print('Grad')\n",
    "score=int(input('คะแนนทั้งหมด:'))\n",
    "if score>=80 and score<=100:\n",
    "   print('คะแนน',score,'เกรด A')\n",
    "elif score>=75 and score<=79:\n",
    "   print('คะแนน',score,'เกรด B+')\n",
    "elif score>=70 and score<=74:\n",
    "   print('คะแนน',score,'เกรด B')\n",
    "elif score>=65 and score<=69:\n",
    "   print('คะแนน',score,'เกรด C+')\n",
    "elif score>=60 and score<=64:\n",
    "   print('คะแนน',score,'เกรด C')\n",
    "elif score>=55 and score<=59:\n",
    "   print('คะแนน',score,'เกรด D+')\n",
    "elif score>=50 and score<=54:\n",
    "   print('คะแนน',score,'เกรด D')\n",
    "elif score>=0 and score<=49:\n",
    "   print('คะแนน',score,'เกรด F')\n",
    "else:\n",
    "   print('error')"
   ]
  },
  {
   "cell_type": "code",
   "execution_count": null,
   "metadata": {},
   "outputs": [],
   "source": []
  }
 ],
 "metadata": {
  "kernelspec": {
   "display_name": "Python 3",
   "language": "python",
   "name": "python3"
  },
  "language_info": {
   "codemirror_mode": {
    "name": "ipython",
    "version": 3
   },
   "file_extension": ".py",
   "mimetype": "text/x-python",
   "name": "python",
   "nbconvert_exporter": "python",
   "pygments_lexer": "ipython3",
   "version": "3.7.4"
  }
 },
 "nbformat": 4,
 "nbformat_minor": 2
}
